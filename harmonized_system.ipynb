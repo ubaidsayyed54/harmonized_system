{
 "cells": [
  {
   "cell_type": "code",
   "execution_count": 6,
   "metadata": {
    "collapsed": false
   },
   "outputs": [],
   "source": [
    "import numpy as np\n",
    "import pandas as pd"
   ]
  },
  {
   "cell_type": "code",
   "execution_count": 13,
   "metadata": {
    "collapsed": false
   },
   "outputs": [],
   "source": [
    "csv = pd.read_csv(\"harmonized_system_utf_8.csv\")"
   ]
  },
  {
   "cell_type": "code",
   "execution_count": 41,
   "metadata": {
    "collapsed": false
   },
   "outputs": [
    {
     "name": "stdout",
     "output_type": "stream",
     "text": [
      "10011000010.0 nan\n",
      "10011000090.0 LIVE ANIMALS; ANIMAL PRODUCTS\n",
      "10021000090.0 LIVE ANIMALS\n",
      "10100000080.0 Live horses  asses  mules and hinnies\n",
      "10121000010.0 nan\n",
      "10121000080.0 Pure-bred breeding horses\n",
      "10129000080.0 Live horses (excl. pure-bred for breeding)\n",
      "10130000080.0 Live asses\n",
      "10190000080.0 Live mules and hinnies\n",
      "10200000080.0 Live bovine animals\n"
     ]
    }
   ],
   "source": [
    "# print(csv[:1])\n",
    "# print(csv[:10].values)\n",
    "for i, row in enumerate(csv[:10].values):\n",
    "    order, level, code, parent, code_1, parent_1, desc = row\n",
    "    print(code, desc)"
   ]
  },
  {
   "cell_type": "code",
   "execution_count": null,
   "metadata": {
    "collapsed": true
   },
   "outputs": [],
   "source": []
  },
  {
   "cell_type": "code",
   "execution_count": null,
   "metadata": {
    "collapsed": true
   },
   "outputs": [],
   "source": []
  }
 ],
 "metadata": {
  "kernelspec": {
   "display_name": "Python 3",
   "language": "python",
   "name": "python3"
  },
  "language_info": {
   "codemirror_mode": {
    "name": "ipython",
    "version": 3
   },
   "file_extension": ".py",
   "mimetype": "text/x-python",
   "name": "python",
   "nbconvert_exporter": "python",
   "pygments_lexer": "ipython3",
   "version": "3.5.3"
  }
 },
 "nbformat": 4,
 "nbformat_minor": 2
}
